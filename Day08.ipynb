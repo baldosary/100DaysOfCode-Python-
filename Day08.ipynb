{
 "cells": [
  {
   "cell_type": "markdown",
   "metadata": {},
   "source": [
    "Day #8 in Python"
   ]
  },
  {
   "cell_type": "code",
   "execution_count": 1,
   "metadata": {},
   "outputs": [
    {
     "name": "stdout",
     "output_type": "stream",
     "text": [
      "['Nothing will work unless you do', 'maya angelou']\n",
      "Nothing will work unless you do -MAYA ANGELOU\n"
     ]
    }
   ],
   "source": [
    "import re\n",
    "#Define a string variable:\n",
    "str = \"Nothing will work unless you do -maya angelou\"\n",
    "\n",
    "#Split the string based on a hyphen(-) using REGEX:\n",
    "strArray = re.split(r'\\s-', str)\n",
    "#Convert the second part into upperCase letters:\n",
    "nameStr = strArray[1].upper()\n",
    "\n",
    "print(strArray)\n",
    "print(f'{strArray[0]} -{nameStr}')"
   ]
  },
  {
   "cell_type": "code",
   "execution_count": null,
   "metadata": {},
   "outputs": [],
   "source": []
  }
 ],
 "metadata": {
  "kernelspec": {
   "display_name": "Python 3",
   "language": "python",
   "name": "python3"
  },
  "language_info": {
   "codemirror_mode": {
    "name": "ipython",
    "version": 3
   },
   "file_extension": ".py",
   "mimetype": "text/x-python",
   "name": "python",
   "nbconvert_exporter": "python",
   "pygments_lexer": "ipython3",
   "version": "3.7.3"
  }
 },
 "nbformat": 4,
 "nbformat_minor": 4
}
