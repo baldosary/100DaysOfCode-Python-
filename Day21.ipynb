{
 "cells": [
  {
   "cell_type": "markdown",
   "metadata": {},
   "source": [
    "Day #21 in python"
   ]
  },
  {
   "cell_type": "code",
   "execution_count": 1,
   "metadata": {},
   "outputs": [
    {
     "name": "stdout",
     "output_type": "stream",
     "text": [
      "{'tantalizingly', 'approval', 'uphold', 'comely', 'comprehensive', 'headway', 'sustainable', 'regal', 'clearly', 'ecstatic', 'bliss', 'humorously', 'thrills', 'lover', 'loves', 'amusing', 'self-satisfaction', 'indulgence', 'gains', 'ecstasy'}\n",
      "{'unabashedly', 'gorgeously', 'tidy', 'outshine', 'positives', 'rock-star', 'simplified', 'fantastically', 'affirmation', 'deft', 'survivor', 'impressiveness', 'victorious', 'beautifully', 'fabulous', 'astonishing', 'titillatingly', 'enjoying', 'conveniently', 'toughest'}\n"
     ]
    }
   ],
   "source": [
    "import random \n",
    "\n",
    "wordSet1 = set()\n",
    "wordSet2 = set()\n",
    "\n",
    "#Read the words from the file:\n",
    "words = open('positiveWords.txt', 'r').read().splitlines()\n",
    "\n",
    "#Add words randomly into the two sets: \n",
    "for i in range(0, 20):\n",
    "  wordSet1.add(random.choice(words))\n",
    "  wordSet2.add(random.choice(words))\n",
    "\n",
    "print(wordSet1)\n",
    "print(wordSet2)"
   ]
  },
  {
   "cell_type": "code",
   "execution_count": 2,
   "metadata": {},
   "outputs": [
    {
     "name": "stdout",
     "output_type": "stream",
     "text": [
      "set()\n"
     ]
    }
   ],
   "source": [
    "print(wordSet1.intersection(wordSet2))"
   ]
  },
  {
   "cell_type": "code",
   "execution_count": 3,
   "metadata": {},
   "outputs": [
    {
     "name": "stdout",
     "output_type": "stream",
     "text": [
      "{'unabashedly', 'tantalizingly', 'approval', 'uphold', 'gorgeously', 'tidy', 'comely', 'outshine', 'comprehensive', 'headway', 'positives', 'sustainable', 'regal', 'clearly', 'rock-star', 'simplified', 'fantastically', 'affirmation', 'ecstatic', 'bliss', 'humorously', 'deft', 'survivor', 'impressiveness', 'victorious', 'beautifully', 'thrills', 'lover', 'fabulous', 'astonishing', 'loves', 'titillatingly', 'amusing', 'enjoying', 'self-satisfaction', 'indulgence', 'conveniently', 'gains', 'ecstasy', 'toughest'}\n"
     ]
    }
   ],
   "source": [
    "print(wordSet1.union(wordSet2))"
   ]
  },
  {
   "cell_type": "code",
   "execution_count": null,
   "metadata": {},
   "outputs": [],
   "source": []
  }
 ],
 "metadata": {
  "kernelspec": {
   "display_name": "Python 3",
   "language": "python",
   "name": "python3"
  },
  "language_info": {
   "codemirror_mode": {
    "name": "ipython",
    "version": 3
   },
   "file_extension": ".py",
   "mimetype": "text/x-python",
   "name": "python",
   "nbconvert_exporter": "python",
   "pygments_lexer": "ipython3",
   "version": "3.7.3"
  }
 },
 "nbformat": 4,
 "nbformat_minor": 4
}
