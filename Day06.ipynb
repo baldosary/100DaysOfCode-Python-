{
 "cells": [
  {
   "cell_type": "markdown",
   "metadata": {},
   "source": [
    "Day #6 in Python "
   ]
  },
  {
   "cell_type": "code",
   "execution_count": 1,
   "metadata": {},
   "outputs": [
    {
     "name": "stdout",
     "output_type": "stream",
     "text": [
      "100DaysOfCode\n",
      "45.6\n"
     ]
    }
   ],
   "source": [
    "#Define two variables of type string and int:\n",
    "var1 = \"DaysOfCode\"\n",
    "var2 = 100\n",
    "#Casting the var2 to string, so we can perform the concatenation of var1 and var2: \n",
    "print(str(var2) + var1)\n",
    "\n",
    "#------------------------------------------------------------------------------------------------------\n",
    "\n",
    "#Define two variables of type int and float:\n",
    "num1 = 2.6 \n",
    "num2 = 4\n",
    "\n",
    "\"\"\"\n",
    "Using those variables in an aithemtic expression, in the first part of the expression \n",
    "the num1 is converted into integer to do the exponentiation operation with an integer power\n",
    "\"\"\"\n",
    "\n",
    "print(num2 ** int(num1) * num1 + num2)\n"
   ]
  },
  {
   "cell_type": "code",
   "execution_count": null,
   "metadata": {},
   "outputs": [],
   "source": []
  }
 ],
 "metadata": {
  "kernelspec": {
   "display_name": "Python 3",
   "language": "python",
   "name": "python3"
  },
  "language_info": {
   "codemirror_mode": {
    "name": "ipython",
    "version": 3
   },
   "file_extension": ".py",
   "mimetype": "text/x-python",
   "name": "python",
   "nbconvert_exporter": "python",
   "pygments_lexer": "ipython3",
   "version": "3.7.3"
  }
 },
 "nbformat": 4,
 "nbformat_minor": 4
}
