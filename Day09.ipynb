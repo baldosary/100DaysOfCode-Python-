{
 "cells": [
  {
   "cell_type": "markdown",
   "metadata": {},
   "source": [
    "Day #9 in Python"
   ]
  },
  {
   "cell_type": "code",
   "execution_count": 5,
   "metadata": {},
   "outputs": [
    {
     "name": "stdout",
     "output_type": "stream",
     "text": [
      "I joined 100DaysOfCode with python\n",
      "100DaysOfCode__python__\n",
      "I joined 100DaysOfCode with python\n"
     ]
    }
   ],
   "source": [
    "\n",
    "str1 = \"DaysOfCode\"\n",
    "str2 = \"python\"\n",
    "days = 100\n",
    "\n",
    "#Print formatting with strings:\n",
    "print('I joined {}{} with {}'.format(days, str1, str2))\n",
    "print('{2}{0}{1:_^10}'.format(str1, str2, days))\n",
    "print(f'I joined {days}{str1} with {str2}')\n",
    "\n",
    "\n",
    "\n",
    "\n",
    "\n"
   ]
  },
  {
   "cell_type": "code",
   "execution_count": null,
   "metadata": {},
   "outputs": [],
   "source": []
  }
 ],
 "metadata": {
  "kernelspec": {
   "display_name": "Python 3",
   "language": "python",
   "name": "python3"
  },
  "language_info": {
   "codemirror_mode": {
    "name": "ipython",
    "version": 3
   },
   "file_extension": ".py",
   "mimetype": "text/x-python",
   "name": "python",
   "nbconvert_exporter": "python",
   "pygments_lexer": "ipython3",
   "version": "3.7.3"
  }
 },
 "nbformat": 4,
 "nbformat_minor": 4
}
