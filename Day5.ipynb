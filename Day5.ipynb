{
 "cells": [
  {
   "cell_type": "markdown",
   "metadata": {},
   "source": [
    "Day #5 in Python :\n",
    "\n",
    "    A problem given by @saudidevorg :\n",
    "  ##Write a python code to perform and print the value of basket = x + y + z if x = apple , y = orange , z= limon."
   ]
  },
  {
   "cell_type": "code",
   "execution_count": 2,
   "metadata": {},
   "outputs": [
    {
     "name": "stdout",
     "output_type": "stream",
     "text": [
      "appleorangelimon\n",
      "['apple', 'orange', 'limon']\n"
     ]
    }
   ],
   "source": [
    "import re\n",
    "#Define the variables: \n",
    "x = \"apple\"\n",
    "y = \"orange\"\n",
    "z = \"limon\"\n",
    "#Perfom the operation:\n",
    "basket = x + y + z \n",
    "#print the result:\n",
    "print(basket)\n",
    "\n",
    "\n",
    "#Split the value of basket into 3 words using REGEX: \n",
    "regex = r\"\\w{4,5}[en]\"\n",
    "print(re.findall(regex,basket))\n"
   ]
  },
  {
   "cell_type": "code",
   "execution_count": null,
   "metadata": {},
   "outputs": [],
   "source": []
  },
  {
   "cell_type": "code",
   "execution_count": null,
   "metadata": {},
   "outputs": [],
   "source": []
  },
  {
   "cell_type": "code",
   "execution_count": null,
   "metadata": {},
   "outputs": [],
   "source": []
  }
 ],
 "metadata": {
  "kernelspec": {
   "display_name": "Python 3",
   "language": "python",
   "name": "python3"
  },
  "language_info": {
   "codemirror_mode": {
    "name": "ipython",
    "version": 3
   },
   "file_extension": ".py",
   "mimetype": "text/x-python",
   "name": "python",
   "nbconvert_exporter": "python",
   "pygments_lexer": "ipython3",
   "version": "3.7.3"
  }
 },
 "nbformat": 4,
 "nbformat_minor": 4
}
