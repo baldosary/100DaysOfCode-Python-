{
 "cells": [
  {
   "cell_type": "markdown",
   "metadata": {},
   "source": [
    "Day #17 in python"
   ]
  },
  {
   "cell_type": "code",
   "execution_count": 1,
   "metadata": {},
   "outputs": [
    {
     "name": "stdout",
     "output_type": "stream",
     "text": [
      "('Work', 'Work', 'Work', 'Work', 'Work', 'Work', 'Work', 'Work', 'Work', 'Work', 'Learn', 'Learn')\n",
      "['Work', 'Work', 'Work', 'Work', 'Work', 'Work', 'Work', 'Work', 'Work', 'Work', 'Learn', 'Learn', 'Meditate']\n"
     ]
    }
   ],
   "source": [
    "toDoLst = ('Work',)* 10 + ('Learn',)* 2\n",
    "\n",
    "print(toDoLst)\n",
    "\n",
    "#Convert tuple into list and do some changing: \n",
    "toDoLst2 = list(toDoLst)\n",
    "if len(toDoLst2) > 10:\n",
    " toDoLst2.append('Meditate')\n",
    "else:\n",
    " while len(toDoLst) >= 10: \n",
    "  toDoLst2.remove('Work') \n",
    " toDoLst2.append('Meditate')\n",
    "    \n",
    "print(toDoLst2)"
   ]
  },
  {
   "cell_type": "code",
   "execution_count": null,
   "metadata": {},
   "outputs": [],
   "source": []
  }
 ],
 "metadata": {
  "kernelspec": {
   "display_name": "Python 3",
   "language": "python",
   "name": "python3"
  },
  "language_info": {
   "codemirror_mode": {
    "name": "ipython",
    "version": 3
   },
   "file_extension": ".py",
   "mimetype": "text/x-python",
   "name": "python",
   "nbconvert_exporter": "python",
   "pygments_lexer": "ipython3",
   "version": "3.7.3"
  }
 },
 "nbformat": 4,
 "nbformat_minor": 4
}
