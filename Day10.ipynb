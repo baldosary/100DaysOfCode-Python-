{
 "cells": [
  {
   "cell_type": "markdown",
   "metadata": {},
   "source": [
    "Day #10 in Python"
   ]
  },
  {
   "cell_type": "code",
   "execution_count": 6,
   "metadata": {},
   "outputs": [
    {
     "name": "stdout",
     "output_type": "stream",
     "text": [
      "20 + 5 = 25\n",
      "20 - 5 = 15\n",
      "20 * 5 = 100\n",
      "5 / 2 = 2.5\n",
      "5 // 2 = 2\n",
      "5 ** 2 = 25\n",
      "--------------------------------------------------\n",
      "5 > 2 is True\n",
      "5 < 2 is False\n",
      "5 != 2 is True\n",
      "5 == 2 is False\n"
     ]
    }
   ],
   "source": [
    "var1 = 20\n",
    "var2 = 5\n",
    "var3 = 2\n",
    "\n",
    "#Some arithemtic operations\n",
    "print(f'{var1} + {var2} = {var1 + var2}')\n",
    "print(f'{var1} - {var2} = {var1 - var2}')\n",
    "print(f'{var1} * {var2} = {var1 * var2}')\n",
    "print(f'{var2} / {var3} = {var2 / var3}')\n",
    "print(f'{var2} // {var3} = {var2 // var3}')\n",
    "print(f'{var2} ** {var3} = {var2 ** var3}')\n",
    "#Separator\n",
    "print('{:-^50}'.format('-'))\n",
    "\n",
    "#Some logical operations:\n",
    "print(f'{var2} > {var3} is {var2 > var3}')\n",
    "print(f'{var2} < {var3} is {var2 < var3}')\n",
    "print(f'{var2} != {var3} is {var2 != var3}')\n",
    "print(f'{var2} == {var3} is {var2 == var3}')"
   ]
  },
  {
   "cell_type": "code",
   "execution_count": null,
   "metadata": {},
   "outputs": [],
   "source": []
  }
 ],
 "metadata": {
  "kernelspec": {
   "display_name": "Python 3",
   "language": "python",
   "name": "python3"
  },
  "language_info": {
   "codemirror_mode": {
    "name": "ipython",
    "version": 3
   },
   "file_extension": ".py",
   "mimetype": "text/x-python",
   "name": "python",
   "nbconvert_exporter": "python",
   "pygments_lexer": "ipython3",
   "version": "3.7.3"
  }
 },
 "nbformat": 4,
 "nbformat_minor": 4
}
