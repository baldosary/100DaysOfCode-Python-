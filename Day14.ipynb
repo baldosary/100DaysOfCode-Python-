{
 "cells": [
  {
   "cell_type": "markdown",
   "metadata": {},
   "source": [
    "Day #14 in python"
   ]
  },
  {
   "cell_type": "code",
   "execution_count": 1,
   "metadata": {},
   "outputs": [
    {
     "name": "stdout",
     "output_type": "stream",
     "text": [
      "['Enjoy the journey', 'Help Others', 'Keep Learning']\n"
     ]
    }
   ],
   "source": [
    "lst = []\n",
    "lst.insert(0, 'Work Smart')\n",
    "lst.insert(1, 'Keep Learning')\n",
    "lst.insert(2, 'Help Others')\n",
    "\n",
    "if not \"Enjoy the journey\" in lst:\n",
    " lst.append('Enjoy the journey')\n",
    " lst.sort()\n",
    "    \n",
    "print(lst[0:3])"
   ]
  },
  {
   "cell_type": "code",
   "execution_count": null,
   "metadata": {},
   "outputs": [],
   "source": []
  }
 ],
 "metadata": {
  "kernelspec": {
   "display_name": "Python 3",
   "language": "python",
   "name": "python3"
  },
  "language_info": {
   "codemirror_mode": {
    "name": "ipython",
    "version": 3
   },
   "file_extension": ".py",
   "mimetype": "text/x-python",
   "name": "python",
   "nbconvert_exporter": "python",
   "pygments_lexer": "ipython3",
   "version": "3.7.3"
  }
 },
 "nbformat": 4,
 "nbformat_minor": 4
}
