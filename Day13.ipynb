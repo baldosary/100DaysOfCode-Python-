{
 "cells": [
  {
   "cell_type": "markdown",
   "metadata": {},
   "source": [
    "Day #13 in python"
   ]
  },
  {
   "cell_type": "code",
   "execution_count": 1,
   "metadata": {},
   "outputs": [
    {
     "name": "stdout",
     "output_type": "stream",
     "text": [
      "[0.00, 0.10, 0.20, 0.30, 0.40, 0.50, 0.60, 0.70, 0.80, 0.90]\n"
     ]
    }
   ],
   "source": [
    "#Generating a list with a decimal poit:\n",
    "list1 = [x * 0.1 for x in range(0, 10)]\n",
    "\n",
    "#Formatting and printting the list:\n",
    "list1 = ', '.join(\"{:.2f}\".format(x) for x in list1)\n",
    "print(f'[{list1}]')\n"
   ]
  },
  {
   "cell_type": "code",
   "execution_count": 2,
   "metadata": {},
   "outputs": [
    {
     "name": "stdout",
     "output_type": "stream",
     "text": [
      "['Believe', 'Hope', 'Inspire', 'Positive', 'Relax', 'Smile']\n"
     ]
    }
   ],
   "source": [
    "words = ['Inspire', 'Smile', 'Believe', 'Relax', 'Hope', 'Negative']\n",
    "#Deleting the 6th element: \n",
    "del words[5]\n",
    "words.append('Positive')\n",
    "#Sorting the items ascendingly \n",
    "words.sort()\n",
    "print(words)\n"
   ]
  },
  {
   "cell_type": "code",
   "execution_count": null,
   "metadata": {},
   "outputs": [],
   "source": []
  },
  {
   "cell_type": "code",
   "execution_count": null,
   "metadata": {},
   "outputs": [],
   "source": []
  }
 ],
 "metadata": {
  "kernelspec": {
   "display_name": "Python 3",
   "language": "python",
   "name": "python3"
  },
  "language_info": {
   "codemirror_mode": {
    "name": "ipython",
    "version": 3
   },
   "file_extension": ".py",
   "mimetype": "text/x-python",
   "name": "python",
   "nbconvert_exporter": "python",
   "pygments_lexer": "ipython3",
   "version": "3.7.3"
  }
 },
 "nbformat": 4,
 "nbformat_minor": 4
}
