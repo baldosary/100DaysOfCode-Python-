{
 "cells": [
  {
   "cell_type": "markdown",
   "metadata": {},
   "source": [
    "Day #20 in python"
   ]
  },
  {
   "cell_type": "markdown",
   "metadata": {},
   "source": [
    "Task\n",
    "Now, let's use our knowledge of sets and help Mickey.\n",
    "Ms. Gabriel Williams is a botany professor at District College. One day, she asked her student Mickey to compute the average of all the plants with distinct heights in her greenhouse.\n",
    "\n",
    "Formula used: Average = sum of distinct heights / total number of distinct heights .\n",
    "\n",
    "Input Format\n",
    "\n",
    "The first line contains the integer, n , the total number of plants.\n",
    "The second line contains the n space separated heights of the plants.\n",
    "\n",
    "Constraints\n",
    "0 < n <= 100\n",
    "\n",
    "Output Format\n",
    "\n",
    "Output the average height value on a single line.\n",
    "\n",
    "Sample Input\n",
    "10\n",
    "161 182 161 154 176 170 167 171 170 174\n",
    "Sample Output\n",
    "169.375\n"
   ]
  },
  {
   "cell_type": "code",
   "execution_count": 3,
   "metadata": {},
   "outputs": [
    {
     "name": "stdin",
     "output_type": "stream",
     "text": [
      " 20\n",
      " 23 66 78 90 12 546 77 91 44 77 33 76 111 45 76 43 88 66 234 78\n"
     ]
    },
    {
     "name": "stdout",
     "output_type": "stream",
     "text": [
      "{33, 66, 546, 234, 43, 12, 77, 78, 44, 76, 111, 45, 23, 88, 90, 91}\n",
      "103.56\n"
     ]
    }
   ],
   "source": [
    "n = input()\n",
    "h = set(int(el) for el in input().split())\n",
    "averageH = sum(h) / len(h)\n",
    "print(h)\n",
    "print(\"{0:.2f}\".format(averageH))"
   ]
  },
  {
   "cell_type": "code",
   "execution_count": null,
   "metadata": {},
   "outputs": [],
   "source": []
  }
 ],
 "metadata": {
  "kernelspec": {
   "display_name": "Python 3",
   "language": "python",
   "name": "python3"
  },
  "language_info": {
   "codemirror_mode": {
    "name": "ipython",
    "version": 3
   },
   "file_extension": ".py",
   "mimetype": "text/x-python",
   "name": "python",
   "nbconvert_exporter": "python",
   "pygments_lexer": "ipython3",
   "version": "3.7.3"
  }
 },
 "nbformat": 4,
 "nbformat_minor": 4
}
