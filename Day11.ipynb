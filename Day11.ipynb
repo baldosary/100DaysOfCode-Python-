{
 "cells": [
  {
   "cell_type": "markdown",
   "metadata": {},
   "source": [
    "Day #11 in Python"
   ]
  },
  {
   "cell_type": "code",
   "execution_count": 1,
   "metadata": {},
   "outputs": [
    {
     "name": "stdout",
     "output_type": "stream",
     "text": [
      "(30 < 50 and 30 != 50) is True\n",
      "(30 > 50 or 30 != 50) is True\n",
      "not(30 < 50 and 30 != 50) is False\n",
      "False\n",
      "True\n",
      "True\n"
     ]
    }
   ],
   "source": [
    "oprnd1 = 30\n",
    "oprnd2 = 50\n",
    "list1 = ['python', 'js', 'java', 'c']\n",
    "\n",
    "print(f'({oprnd1} < {oprnd2} and {oprnd1} != {oprnd2}) is {oprnd1 < oprnd2 and oprnd1 != oprnd2}')\n",
    "print(f'({oprnd1} > {oprnd2} or {oprnd1} != {oprnd2}) is {oprnd1 > oprnd2 or oprnd1 != oprnd2}')\n",
    "print(f'not({oprnd1} < {oprnd2} and {oprnd1} != {oprnd2}) is {not oprnd1 < oprnd2 and oprnd1 != oprnd2}')\n",
    "\n",
    "print(f'{\"c++\" in list1}')\n",
    "print(f'{\"python\" in list1}')\n",
    "print(f'{\"c++\" not in list1}')"
   ]
  },
  {
   "cell_type": "code",
   "execution_count": null,
   "metadata": {},
   "outputs": [],
   "source": []
  }
 ],
 "metadata": {
  "kernelspec": {
   "display_name": "Python 3",
   "language": "python",
   "name": "python3"
  },
  "language_info": {
   "codemirror_mode": {
    "name": "ipython",
    "version": 3
   },
   "file_extension": ".py",
   "mimetype": "text/x-python",
   "name": "python",
   "nbconvert_exporter": "python",
   "pygments_lexer": "ipython3",
   "version": "3.7.3"
  }
 },
 "nbformat": 4,
 "nbformat_minor": 4
}
